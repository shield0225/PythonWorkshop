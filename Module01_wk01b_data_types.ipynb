{
  "nbformat": 4,
  "nbformat_minor": 0,
  "metadata": {
    "colab": {
      "provenance": [],
      "collapsed_sections": [
        "TrCZ5HoNPWGk",
        "anb-K-A-Qdsa",
        "SnPVk39dlTBu",
        "bAXoDJSsQxGI",
        "fFO7cK_0LRID",
        "kMedTzVI2HwJ",
        "3sIL-86H5ukn",
        "peqriMjXbTUu"
      ],
      "include_colab_link": true
    },
    "kernelspec": {
      "name": "python3",
      "display_name": "Python 3"
    }
  },
  "cells": [
    {
      "cell_type": "markdown",
      "metadata": {
        "id": "view-in-github",
        "colab_type": "text"
      },
      "source": [
        "<a href=\"https://colab.research.google.com/github/shield0225/PythonWorkshop/blob/main/Module01_wk01b_data_types.ipynb\" target=\"_parent\"><img src=\"https://colab.research.google.com/assets/colab-badge.svg\" alt=\"Open In Colab\"/></a>"
      ]
    },
    {
      "cell_type": "markdown",
      "metadata": {
        "id": "RsUf1dXrhvBH"
      },
      "source": [
        "*This notebooks was composed for COMP216 by &copy;*\n",
        "$\\color{red}{\\text{Narendra Pershad}}$\n",
        "\n",
        "---  \n",
        "\n",
        "Everything in Python is an object.  \n",
        "You may use the following url to [visualize](http://pythontutor.com/visualize.html#mode=display) your code\n",
        "\n",
        "How to use this notebook.  \n",
        "- Make sure you understand the statements in each cell as well as the resulting output.  \n",
        "- To execute the statements, click the run icon or press Ctrl-Enter\n",
        "- You can make changes to this notebook\n",
        "\n",
        "#**Python built-in data types**\n",
        "1. [None](#none)\n",
        "2. [Numbers](#number)\n",
        "   1. Integer\n",
        "   2. Float\n",
        "   3. Complex (info only)\n",
        "   4. Boolean\n",
        "   5. Fraction (info only) Available via an explicit import\n",
        "   6. Decimal (info only)  Available via an explicit import\n",
        "3. [Sequences](#sequence)\n",
        "   1. List - Mutable, ordered and indexable. (heavily used)\n",
        "   2. String\n",
        "   3. Tuples - Immutable, ordered and indexable\n",
        "   4. Set - Mutable, unordered and not indexable. No duplicates.\n",
        "4. [Mappings](#mapping)\n",
        "   1. Dictionary - Mutable and ordered. (heavily used)\n",
        "\n",
        "5. [Enum](#enum)  (info only) Available via an explicit import\n",
        "\n",
        "\n"
      ]
    },
    {
      "cell_type": "markdown",
      "metadata": {
        "id": "D4QapRV3F8vy"
      },
      "source": [
        "##1. <a name=\"none\"></a>None\n",
        "Is used to define a null value, or no value at all. It is not the same as 0, False, or an empty string.  \n",
        "Comparing None to anything except None will return False.  \n",
        "Probably similar to the c# null value.\n",
        "\n",
        "N.B. In this course you will use f-strings in your output. Placeholders will not be tolerated."
      ]
    },
    {
      "cell_type": "code",
      "metadata": {
        "id": "N9-U4R0VQdUl",
        "colab": {
          "base_uri": "https://localhost:8080/"
        },
        "outputId": "75af67b8-370a-48e1-f904-f22ba2e3586e"
      },
      "source": [
        "a = None\n",
        "print(f'type of {a}  => {type(a)}')\n",
        "\n",
        "value = False\n",
        "print(f'{a} == {value} => {a == value}')      #False\n",
        "\n",
        "value = True\n",
        "print(f'{a} == {value}  => {a == value}')     #False\n",
        "\n",
        "value = ''\n",
        "print(f\"{a} == '{value}'    => {a == value}\") #False\n",
        "\n",
        "value = None\n",
        "print(f'{a} == {value}  => {a == value}')     #True\n"
      ],
      "execution_count": null,
      "outputs": [
        {
          "output_type": "stream",
          "name": "stdout",
          "text": [
            "type of None  => <class 'NoneType'>\n",
            "None == False => False\n",
            "None == True  => False\n",
            "None == ''    => False\n",
            "None == None  => True\n"
          ]
        }
      ]
    },
    {
      "cell_type": "markdown",
      "metadata": {
        "id": "TrCZ5HoNPWGk"
      },
      "source": [
        "##2. <a name=\"number\"></a>Numbers\n",
        "Numbers are immutable. Same as string in C#.  \n",
        "\n",
        "*Why do we say that numbers are immutable?*  \n",
        "When you perform an operation on a number, the result is computed and stored in a new location but accessed with the same variable. The value at the original location remains the same.  \n",
        "\n",
        "Python has four built-in number types and two other accessible via imports:\n",
        "1. [Integers](#integer)\n",
        "\n",
        "2. [Floats](#float)   \n",
        "\n",
        "3. [Complex numbers](#complex)\n",
        "\n",
        "4. [Booleans](#boolean)\n",
        "\n",
        "5. [Fractions](#fraction) via import fraction\n",
        "\n",
        "6. [Decimals](#decimal) via import decimal\n"
      ]
    },
    {
      "cell_type": "markdown",
      "metadata": {
        "id": "dDE6OmXdPxhk"
      },
      "source": [
        "###2.1 <a name=\"integer\"></a>Integers\n",
        "\n",
        "C# has:\n",
        "- 8-bits such as sbyte and byte  \n",
        "- 16-bts such as short and ushort  \n",
        "- 32-bits such as int and uint  \n",
        "- 64-bits such as long and ulong  \n",
        "\n",
        "In Python integers are limited only by available memory.  \n",
        "There is only one size.    "
      ]
    },
    {
      "cell_type": "code",
      "metadata": {
        "id": "-SNEDjDpRTxE",
        "colab": {
          "base_uri": "https://localhost:8080/"
        },
        "outputId": "c58a127b-c9c4-4577-88bd-d8da803ed9ec"
      },
      "source": [
        "#decimal literal\n",
        "a = 11\n",
        "print(type(a))\n",
        "print(a)\n",
        "\n",
        "#binary literal\n",
        "b = 0b1011\n",
        "print(b)\n",
        "\n",
        "#octal literal\n",
        "c = 0o13\n",
        "print(c)\n",
        "\n",
        "#hexadecimal\n",
        "d = 0xb\n",
        "print(d)\n",
        "\n",
        "#Like C#, python allows underscores to make\n",
        "#number literals more readable\n",
        "e = 1_100_000\n",
        "print(e)\n",
        "f = 0x_4_ad\n",
        "print(f)\n",
        "\n",
        "#Like C#, you may also use format specifier\n",
        "print(f'{e:,}')"
      ],
      "execution_count": null,
      "outputs": [
        {
          "output_type": "stream",
          "name": "stdout",
          "text": [
            "<class 'int'>\n",
            "11\n",
            "11\n",
            "11\n",
            "11\n",
            "1100000\n",
            "1197\n",
            "1,100,000\n"
          ]
        }
      ]
    },
    {
      "cell_type": "code",
      "metadata": {
        "id": "h3zVQ5yfVHQl",
        "colab": {
          "base_uri": "https://localhost:8080/"
        },
        "outputId": "2c2be0da-70e8-42f0-de8d-c95ea3a933fc"
      },
      "source": [
        "#demonstrate immutability of numbers\n",
        "micheal = 10\n",
        "print(id(micheal))\n",
        "micheal = micheal + 1   #new variable is created with the same name\n",
        "print(micheal)\n",
        "print(id(micheal))"
      ],
      "execution_count": null,
      "outputs": [
        {
          "output_type": "stream",
          "name": "stdout",
          "text": [
            "94133159185184\n",
            "11\n",
            "94133159185216\n"
          ]
        }
      ]
    },
    {
      "cell_type": "markdown",
      "metadata": {
        "id": "rBFQ0CmKQEFG"
      },
      "source": [
        "###2.2 <a name=\"float\"></a>Float\n",
        "C# has  \n",
        "- 32-bits float\n",
        "- 64-bits double\n",
        "\n",
        "Python's float has unlimited precision  "
      ]
    },
    {
      "cell_type": "code",
      "metadata": {
        "id": "sM1nUmvTSW3i",
        "colab": {
          "base_uri": "https://localhost:8080/"
        },
        "outputId": "f7c5d58c-f56f-46d2-9e46-79166a711e17"
      },
      "source": [
        "#some float literals\n",
        "a = 3.1428\n",
        "print(type(a))\n",
        "print(a)        #3.12428\n",
        "b = 10.\n",
        "c = .001\n",
        "\n",
        "#using exponent notation\n",
        "d = 2.3e10\n",
        "print(d)\n",
        "\n",
        "e = 5.3e-10\n",
        "print(e)\n"
      ],
      "execution_count": null,
      "outputs": [
        {
          "output_type": "stream",
          "name": "stdout",
          "text": [
            "<class 'float'>\n",
            "3.1428\n",
            "23000000000.0\n",
            "5.3e-10\n"
          ]
        }
      ]
    },
    {
      "cell_type": "markdown",
      "metadata": {
        "id": "anb-K-A-Qdsa"
      },
      "source": [
        "###2.3 <a name=\"complex\"></a>Complex number\n",
        "Simlar to the mathematical concept of complex number\n",
        "\n",
        "There is a real and an imaginary part"
      ]
    },
    {
      "cell_type": "code",
      "metadata": {
        "id": "SMCNnl5RTw4f",
        "colab": {
          "base_uri": "https://localhost:8080/"
        },
        "outputId": "f881fc9e-6495-4edc-807d-15592b18a63e"
      },
      "source": [
        "#a complex MUST have atleast an imaginary part\n",
        "a = 2j\n",
        "print(type(a))\n",
        "print(a)\n",
        "\n",
        "b = 2+ 3.14j\n",
        "print(b)\n",
        "\n",
        "c = 2.178 - 4j\n",
        "print(c)\n",
        "\n",
        "#you may have an imaginary exponent\n",
        "d = 2.15e100j\n",
        "print(d)\n",
        "\n",
        "e = 1.25e-3j\n",
        "print(e)\n"
      ],
      "execution_count": null,
      "outputs": [
        {
          "output_type": "stream",
          "name": "stdout",
          "text": [
            "<class 'complex'>\n",
            "2j\n",
            "(2+3.14j)\n",
            "(2.178-4j)\n",
            "2.15e+100j\n",
            "0.00125j\n"
          ]
        }
      ]
    },
    {
      "cell_type": "markdown",
      "metadata": {
        "id": "SnPVk39dlTBu"
      },
      "source": [
        "####Arithmetic operations\n",
        "#####ints and floats"
      ]
    },
    {
      "cell_type": "code",
      "metadata": {
        "id": "DAdlf0n9lbH8",
        "colab": {
          "base_uri": "https://localhost:8080/"
        },
        "outputId": "e37ee50d-ba28-4bc9-9b08-d6bda1a639f1"
      },
      "source": [
        "a = 1 + 3\n",
        "print(a)\n",
        "\n",
        "a = 10 / 2           #division always give a float\n",
        "print(f'{a} -> {type(a)}')\n",
        "\n",
        "a = 10 // 3          #integer division\n",
        "print(f'{a} -> {type(a)}')\n",
        "\n",
        "a = 10 * 2j\n",
        "print(type(a))\n",
        "\n",
        "a = '11 ** 2'        #this is the exponentiation operator\n",
        "print(f'{a} -> {eval(a)}')\n",
        "\n",
        "a = '25 ** 0.5'      #square root\n",
        "print(f'{a} -> {eval(a)}')\n",
        "\n",
        "\n",
        "a = '64 ** (1/3)'    #cube root\n",
        "print(f'{a} -> {eval(a)}')\n",
        "\n",
        "a = '81 ** 0.25'     #fourth root\n",
        "print(f'{a} -> {eval(a)}')\n",
        "\n",
        "a = '25 % 3'         #modulus operator\n",
        "print(f'{a} -> {eval(a)}')\n",
        "\n",
        "a = '6.13 % 3'       #is not 0.13 because of floating point representation\n",
        "print(f'{a} -> {eval(a)}')\n",
        "\n",
        "a = '25 % 4.1'\n",
        "print(f'{a} -> {eval(a)}')"
      ],
      "execution_count": null,
      "outputs": [
        {
          "output_type": "stream",
          "name": "stdout",
          "text": [
            "4\n",
            "5.0 -> <class 'float'>\n",
            "3 -> <class 'int'>\n",
            "<class 'complex'>\n",
            "11 ** 2 -> 121\n",
            "25 ** 0.5 -> 5.0\n",
            "64 ** (1/3) -> 3.9999999999999996\n",
            "81 ** 0.25 -> 3.0\n",
            "25 % 3 -> 1\n",
            "6.13 % 3 -> 0.1299999999999999\n",
            "25 % 4.1 -> 0.40000000000000213\n"
          ]
        }
      ]
    },
    {
      "cell_type": "markdown",
      "metadata": {
        "id": "iak-fCmbV3K0"
      },
      "source": [
        "####Complex\n",
        "Arithmetic operations like addition, subtraction, division, multiplication and exponentiation are supported.  \n",
        "Math methods like ceiling, floor, sin, cos, tan, are not supported."
      ]
    },
    {
      "cell_type": "code",
      "metadata": {
        "id": "ksD69TpnV5mz",
        "colab": {
          "base_uri": "https://localhost:8080/"
        },
        "outputId": "8b60a62a-6076-4c83-90ec-1b8b02b6cf04"
      },
      "source": [
        "a = '1j'\n",
        "b = '(1+1.2j)'\n",
        "c = '(2-3j)'\n",
        "d = '(2+3j)'\n",
        "\n",
        "print(f'{a} + {b} -> {eval(a + \"+ \" + b)}')\n",
        "\n",
        "print(f'{a} - {b} -> {eval(a + \" - \" + b)}')\n",
        "\n",
        "print(f'{c} * {d} -> {eval(c + \" * \" + d)}')\n",
        "\n",
        "print(f'{c} / {b} -> {eval(c + \" / \" + b)}')\n",
        "\n",
        "e = '0.5'\n",
        "\n",
        "print(f'{a} ** {e} -> {eval(a + \" ** \" + e)}')\n"
      ],
      "execution_count": null,
      "outputs": [
        {
          "output_type": "stream",
          "name": "stdout",
          "text": [
            "1j + (1+1.2j) -> (1+2.2j)\n",
            "1j - (1+1.2j) -> (-1-0.19999999999999996j)\n",
            "(2-3j) * (2+3j) -> (13+0j)\n",
            "(2-3j) / (1+1.2j) -> (-0.6557377049180327-2.2131147540983607j)\n",
            "1j ** 0.5 -> (0.7071067811865476+0.7071067811865475j)\n"
          ]
        }
      ]
    },
    {
      "cell_type": "markdown",
      "metadata": {
        "id": "bAXoDJSsQxGI"
      },
      "source": [
        "###2.4 <a name=\"boolean\"></a>Booleans\n",
        "There are only two possible literal value: **True** or **False**\n",
        "\n",
        "However any python object can be tested for truth value. All of the following will be considered False:\n",
        "\n",
        "  * None\n",
        "  * False\n",
        "  * Any zero numeric e.g. 0, 0.0, 0j\n",
        "  * Any empty sequence e.g. '', {}, []\n",
        "\n",
        "Everything else will be considered **True**"
      ]
    },
    {
      "cell_type": "code",
      "metadata": {
        "id": "MZ-mf29mOzOH",
        "colab": {
          "base_uri": "https://localhost:8080/"
        },
        "outputId": "87a19115-4a1f-4f04-d81d-dc48f322f078"
      },
      "source": [
        "a = None\n",
        "print(f'{a} -> {type(a)}')\n",
        "print(f'{a} -> {bool(a)}')\n",
        "\n",
        "a = 0\n",
        "print(f'{a} -> {bool(a)}')\n",
        "\n",
        "a = 1\n",
        "print(f'{a} -> {bool(a)}')\n",
        "\n",
        "a = 0.\n",
        "print(f'{a} -> {bool(a)}')\n",
        "\n",
        "a = 3.14\n",
        "print(f'{a} -> {bool(a)}')\n",
        "\n",
        "a = ''\n",
        "print(f'{a} -> {bool(a)}')\n",
        "\n",
        "a = 'Hello'\n",
        "print(f'{a} -> {bool(a)}')\n",
        "\n",
        "a = []\n",
        "print(f'{a} -> {bool(a)}')\n",
        "\n",
        "a = [2, 3]\n",
        "print(f'{a} -> {bool(a)}')\n",
        "\n",
        "a = {}\n",
        "print(f'{a} -> {bool(a)}')\n",
        "\n",
        "a = {1: 'narendra', 2: 'pershad'}\n",
        "print(f'{a} -> {bool(a)}')\n",
        "\n",
        "a = ()\n",
        "print(f'{a} -> {bool(a)}')\n",
        "\n",
        "a = (4, 'comp216')\n",
        "print(f'{a} -> {bool(a)}')\n",
        "\n",
        "a = '10 + True'\n",
        "print(f'{a} -> {eval(a)}')"
      ],
      "execution_count": null,
      "outputs": [
        {
          "output_type": "stream",
          "name": "stdout",
          "text": [
            "None -> <class 'NoneType'>\n",
            "None -> False\n",
            "0 -> False\n",
            "1 -> True\n",
            "0.0 -> False\n",
            "3.14 -> True\n",
            " -> False\n",
            "Hello -> True\n",
            "[] -> False\n",
            "[2, 3] -> True\n",
            "{} -> False\n",
            "{1: 'narendra', 2: 'pershad'} -> True\n",
            "() -> False\n",
            "(4, 'comp216') -> True\n",
            "10 + True -> 11\n"
          ]
        }
      ]
    },
    {
      "cell_type": "markdown",
      "metadata": {
        "id": "fFO7cK_0LRID"
      },
      "source": [
        "###2.5 <a name=\"fraction\"></a>Fractions  \n",
        "Fractions hold a rational numerator and denominator in their lowest forms.  \n",
        "This is not a built-in type because you have to do an import"
      ]
    },
    {
      "cell_type": "code",
      "metadata": {
        "id": "1hNAApXsLh9q",
        "colab": {
          "base_uri": "https://localhost:8080/"
        },
        "outputId": "4b9c6871-ebe6-40b3-89bd-acb63922b6b7"
      },
      "source": [
        "from fractions import Fraction\n",
        "a = Fraction (2, 6)    #this in not in lowest form\n",
        "print(type(a))\n",
        "print(a)\n",
        "\n",
        "b = Fraction(1, 12)\n",
        "print(b)\n",
        "c = a + b\n",
        "print(f'{c} = {c.numerator} / {c.denominator}')"
      ],
      "execution_count": null,
      "outputs": [
        {
          "output_type": "stream",
          "name": "stdout",
          "text": [
            "<class 'fractions.Fraction'>\n",
            "1/3\n",
            "1/12\n",
            "5/12 = 5 / 12\n"
          ]
        }
      ]
    },
    {
      "cell_type": "markdown",
      "metadata": {
        "id": "xMF2aoXqPQ8U"
      },
      "source": [
        "###2.6 <a name=\"decimal\"></a>Decimal  \n",
        "\n",
        "Also this is not a built-in type because you have to do an import\n"
      ]
    },
    {
      "cell_type": "code",
      "metadata": {
        "id": "S7EhhOtZPxlo",
        "colab": {
          "base_uri": "https://localhost:8080/"
        },
        "outputId": "b06bd2a7-a452-4b4d-9166-aed3eefb5caa"
      },
      "source": [
        "from decimal import Decimal as D\n",
        "a = D(3.14)\n",
        "print(type(a))\n",
        "print(a)\n",
        "\n",
        "a = '3.14'\n",
        "print(a)\n",
        "\n",
        "b = D(0.1)\n",
        "print(b)\n",
        "\n",
        "c = D(3)\n",
        "print(c)\n",
        "\n",
        "print(D('1.4').as_integer_ratio())\n"
      ],
      "execution_count": null,
      "outputs": [
        {
          "output_type": "stream",
          "name": "stdout",
          "text": [
            "<class 'decimal.Decimal'>\n",
            "3.140000000000000124344978758017532527446746826171875\n",
            "3.14\n",
            "0.1000000000000000055511151231257827021181583404541015625\n",
            "3\n",
            "(7, 5)\n"
          ]
        }
      ]
    },
    {
      "cell_type": "markdown",
      "metadata": {
        "id": "upVrF2yKvPW5"
      },
      "source": [
        "##3. <a name=\"sequence\"></a>Sequences\n",
        "1. Immutable Sequences\n",
        "  1. [String](#string)\n",
        "  2. [Tuple](#tuple)\n",
        "2. Mutable Sequences  \n",
        "  1. [List](#list)\n",
        "  2. [Set](#set)  \n"
      ]
    },
    {
      "cell_type": "markdown",
      "metadata": {
        "id": "kMedTzVI2HwJ"
      },
      "source": [
        "###3.1.1 <a name=\"string\"></a>String\n",
        "A string is delimited by single quotes, double quotes, triple single quotes or triple double quotes.  \n",
        "\n",
        "All strings are unicode string.  \n",
        "\n",
        "N.B. Unlike most modern languages, python does not have a char type"
      ]
    },
    {
      "cell_type": "markdown",
      "metadata": {
        "id": "w9GrqbGPxnp4"
      },
      "source": []
    },
    {
      "cell_type": "code",
      "metadata": {
        "id": "_k7WNYDpA37q",
        "colab": {
          "base_uri": "https://localhost:8080/",
          "height": 35
        },
        "outputId": "bda70ed7-0357-4753-ecbc-72b490c4d5d5"
      },
      "source": [
        "# personally I prefer single quotes\n",
        "a = 'to be \\t or not \\n to be'\n",
        "a"
      ],
      "execution_count": null,
      "outputs": [
        {
          "output_type": "execute_result",
          "data": {
            "application/vnd.google.colaboratory.intrinsic+json": {
              "type": "string"
            },
            "text/plain": [
              "'to be \\t or not \\n to be'"
            ]
          },
          "metadata": {},
          "execution_count": 10
        }
      ]
    },
    {
      "cell_type": "code",
      "metadata": {
        "id": "aGwAV44nGW-T",
        "colab": {
          "base_uri": "https://localhost:8080/",
          "height": 35
        },
        "outputId": "14d1062a-8249-4c12-86e0-d2db3e612e6a"
      },
      "source": [
        "# I use double quotes because it need the single quote in the string\n",
        "a = \"Narendra's toys\"\n",
        "a"
      ],
      "execution_count": null,
      "outputs": [
        {
          "output_type": "execute_result",
          "data": {
            "application/vnd.google.colaboratory.intrinsic+json": {
              "type": "string"
            },
            "text/plain": [
              "\"Narendra's toys\""
            ]
          },
          "metadata": {},
          "execution_count": 3
        }
      ]
    },
    {
      "cell_type": "code",
      "metadata": {
        "id": "jxqwIHuvFz19",
        "colab": {
          "base_uri": "https://localhost:8080/",
          "height": 35
        },
        "outputId": "2b11f93a-e7a2-4af6-b288-9c513c1ab85a"
      },
      "source": [
        "# triple quotation is convenient for multiple line string\n",
        "a = '''\n",
        "    this is a multiple\n",
        "    line string.\n",
        "\n",
        "    And some more text\n",
        "    '''\n",
        "a"
      ],
      "execution_count": null,
      "outputs": [
        {
          "output_type": "execute_result",
          "data": {
            "application/vnd.google.colaboratory.intrinsic+json": {
              "type": "string"
            },
            "text/plain": [
              "'\\n    this is a multiple\\n    line string.\\n\\n    And some more text\\n    '"
            ]
          },
          "metadata": {},
          "execution_count": 4
        }
      ]
    },
    {
      "cell_type": "code",
      "metadata": {
        "id": "VDxk0XEtGB8R",
        "colab": {
          "base_uri": "https://localhost:8080/",
          "height": 35
        },
        "outputId": "83c173fe-6851-40cd-bfa6-58c6fef5d3cc"
      },
      "source": [
        "#notice the use of the line continuation symbol\n",
        "#it is illegal to put ANY character after the slash\n",
        "a = 'first line '\\\n",
        "'second line '\\\n",
        "'third line'\n",
        "a"
      ],
      "execution_count": null,
      "outputs": [
        {
          "output_type": "execute_result",
          "data": {
            "application/vnd.google.colaboratory.intrinsic+json": {
              "type": "string"
            },
            "text/plain": [
              "'first line second line third line'"
            ]
          },
          "metadata": {},
          "execution_count": 5
        }
      ]
    },
    {
      "cell_type": "markdown",
      "metadata": {
        "id": "Tvt_L2xpt4jn"
      },
      "source": [
        "You may specify non-keyboard character via hexcode"
      ]
    },
    {
      "cell_type": "code",
      "metadata": {
        "id": "BBnR7_xitpcx",
        "colab": {
          "base_uri": "https://localhost:8080/"
        },
        "outputId": "92e4f7ea-21db-4beb-fded-26cb3f8a23b7"
      },
      "source": [
        "a = '\\u00c4\\u00e8'          #four digit hex value\n",
        "print(a)\n",
        "\n",
        "a = '\\U000000c4\\U000000e8'  #eight digit hex value\n",
        "print(a)"
      ],
      "execution_count": null,
      "outputs": [
        {
          "output_type": "stream",
          "name": "stdout",
          "text": [
            "Äè\n",
            "Äè\n"
          ]
        }
      ]
    },
    {
      "cell_type": "markdown",
      "metadata": {
        "id": "jeOPA_kFreB6"
      },
      "source": [
        "###3.11 Binary String\n",
        "Binary strings are used for image files and sockets"
      ]
    },
    {
      "cell_type": "code",
      "metadata": {
        "id": "fPHRoMjNrqzy",
        "colab": {
          "base_uri": "https://localhost:8080/"
        },
        "outputId": "db467a73-3c13-4220-9805-53831cf7cb03"
      },
      "source": [
        "a = 'Normal string'\n",
        "print(type(a))\n",
        "print(a)\n",
        "print(list(a))\n",
        "\n",
        "b = b'Binary string'\n",
        "print(f'\\n{type(b)}')\n",
        "print(b)\n",
        "print(list(b))"
      ],
      "execution_count": null,
      "outputs": [
        {
          "output_type": "stream",
          "text": [
            "<class 'str'>\n",
            "Normal string\n",
            "['N', 'o', 'r', 'm', 'a', 'l', ' ', 's', 't', 'r', 'i', 'n', 'g']\n",
            "\n",
            "<class 'bytes'>\n",
            "b'Binary string'\n",
            "[66, 105, 110, 97, 114, 121, 32, 115, 116, 114, 105, 110, 103]\n"
          ],
          "name": "stdout"
        }
      ]
    },
    {
      "cell_type": "markdown",
      "metadata": {
        "id": "55_GUQOzu6UH"
      },
      "source": [
        "####Some string operations"
      ]
    },
    {
      "cell_type": "code",
      "metadata": {
        "id": "Me0U4fa_vVZg",
        "colab": {
          "base_uri": "https://localhost:8080/"
        },
        "outputId": "b6bd6465-092f-4b32-f51d-53dca4508c61"
      },
      "source": [
        "c = 'the quick brown fox jumps over the lazy dog'\n",
        "print(c.split())         #returns a list by splitting on ' '\n",
        "\n",
        "print(c.upper())         #returns a string with all the letters upper cased\n",
        "\n",
        "print(c.capitalize())    #the first letter of each word in upper-cased\n",
        "\n",
        "print(c.title())\n",
        "\n",
        "d = c.replace(' ', ':')  #replaces ' '  with ':'\n",
        "\n",
        "print(d)\n",
        "\n",
        "print(d.split(':'))     #returns a list by spiltting on ':'\n",
        "\n",
        "print(d.find('dog'))    #returns the position of the argument\n",
        "\n",
        "a = '''\n",
        "    this is a multiple\n",
        "    line string.\n",
        "\n",
        "    And some more text\n",
        "    '''\n",
        "\n",
        "for line in a.splitlines():\n",
        "  print(line)\n",
        "\n",
        "a = '     and a funny name Ståle    '\n",
        "\n",
        "print(a.encode())       #\n",
        "\n",
        "print(a.strip())        #removes the leading and the trailing spaces\n",
        "\n",
        "print(a)\n",
        "\n",
        "print(a.partition('funny'))#a three item tuple\n",
        "                         #-> the part before the pivot\n",
        "                         #-> the pivot and\n",
        "                         #-> the part after the pivot\n"
      ],
      "execution_count": null,
      "outputs": [
        {
          "output_type": "stream",
          "text": [
            "['the', 'quick', 'brown', 'fox', 'jumps', 'over', 'the', 'lazy', 'dog']\n",
            "THE QUICK BROWN FOX JUMPS OVER THE LAZY DOG\n",
            "The quick brown fox jumps over the lazy dog\n",
            "The Quick Brown Fox Jumps Over The Lazy Dog\n",
            "the:quick:brown:fox:jumps:over:the:lazy:dog\n",
            "['the', 'quick', 'brown', 'fox', 'jumps', 'over', 'the', 'lazy', 'dog']\n",
            "40\n",
            "\n",
            "    this is a multiple\n",
            "    line string.\n",
            "\n",
            "    And some more text\n",
            "    \n",
            "b'     and a funny name St\\xc3\\xa5le    '\n",
            "and a funny name Ståle\n",
            "     and a funny name Ståle    \n",
            "('     and a ', 'funny', ' name Ståle    ')\n"
          ],
          "name": "stdout"
        }
      ]
    },
    {
      "cell_type": "markdown",
      "metadata": {
        "id": "A2WFzs05z1vi"
      },
      "source": [
        "####Conversion from character to ascii and back"
      ]
    },
    {
      "cell_type": "code",
      "metadata": {
        "id": "NgzQkr1M0Aj5",
        "colab": {
          "base_uri": "https://localhost:8080/"
        },
        "outputId": "03133b84-cad2-4d9a-f3b3-e2f82809269c"
      },
      "source": [
        "e = 'A'\n",
        "print(f'The ascii of {e} is {ord(e)}')\n",
        "\n",
        "e = 70\n",
        "print(f'The letter that corresponds to {e} is \"{chr(e)}\"')"
      ],
      "execution_count": null,
      "outputs": [
        {
          "output_type": "stream",
          "text": [
            "The ascii of A is 65\n",
            "The letter that corresponds to 70 is \"F\"\n"
          ],
          "name": "stdout"
        }
      ]
    },
    {
      "cell_type": "markdown",
      "metadata": {
        "id": "4FBuUL_63l1G"
      },
      "source": [
        "###3.1.2 <a name=\"tuple\"></a>Tuples\n",
        "An immutable heterogenous collection of python objects"
      ]
    },
    {
      "cell_type": "code",
      "metadata": {
        "id": "g7XBsCtn4Onj",
        "colab": {
          "base_uri": "https://localhost:8080/"
        },
        "outputId": "f44a8af6-b102-4aad-e598-4ec00882ae43"
      },
      "source": [
        "a = (0, 1, 2, 3, 4, 'five', 'six', ['nested', 'list'])\n",
        "print(type(a))\n",
        "print(a)\n",
        "print(len(a))         #number of items in the sequence\n",
        "print(a[5])           #the sixth item\n",
        "print(a[-1])          #the last item\n",
        "print(a[-2])          #second from last\n",
        "\n",
        "                      #following operations are also called slicing\n",
        "print(a[:3])          #all items before the third item\n",
        "print(a[5:])          #all items from 5 to the end\n",
        "print(a[1:3])         #from second to the third item\n"
      ],
      "execution_count": null,
      "outputs": [
        {
          "output_type": "stream",
          "text": [
            "<class 'tuple'>\n",
            "(0, 1, 2, 3, 4, 'five', 'six', ['nested', 'list'])\n",
            "8\n",
            "five\n",
            "['nested', 'list']\n",
            "six\n",
            "(0, 1, 2)\n",
            "('five', 'six', ['nested', 'list'])\n",
            "(1, 2)\n"
          ],
          "name": "stdout"
        }
      ]
    },
    {
      "cell_type": "markdown",
      "metadata": {
        "id": "1T6A7fydpHoV"
      },
      "source": [
        "Unpacking is a common operation on sequences"
      ]
    },
    {
      "cell_type": "code",
      "metadata": {
        "id": "c_UG7MYgpOYU",
        "colab": {
          "base_uri": "https://localhost:8080/"
        },
        "outputId": "54f34ee2-f121-47dd-d73c-4fd6b5c46818"
      },
      "source": [
        "stoges = ('larry', 'curly', 'moe', 'shemp', 'joe')\n",
        "l, c, m, s, j = stoges\n",
        "print(l, c, m, s, j)\n",
        "\n",
        "#if we are not interested in shemp\n",
        "l, c, m, _, j = stoges\n",
        "print(l, c, m, j)\n",
        "\n",
        "#if we are only interested in the first three\n",
        "l, c, m, *rest = stoges\n",
        "print(l, c, m, rest)\n",
        "\n",
        "#if we want to ignore all but the first three\n",
        "l, c, m, *_ = stoges\n",
        "print(l, c, m)\n",
        "\n",
        "#if we are only interested in the first and last\n",
        "l, *foo, j = stoges\n",
        "print(l, foo, j)\n",
        "\n",
        "#if we want to ignore all but the first and last\n",
        "l, *_, j = stoges\n",
        "print(l, j)"
      ],
      "execution_count": null,
      "outputs": [
        {
          "output_type": "stream",
          "text": [
            "larry curly moe shemp joe\n",
            "larry curly moe joe\n",
            "larry curly moe ['shemp', 'joe']\n",
            "larry curly moe\n",
            "larry ['curly', 'moe', 'shemp'] joe\n",
            "larry joe\n"
          ],
          "name": "stdout"
        }
      ]
    },
    {
      "cell_type": "markdown",
      "metadata": {
        "id": "GJoLbwunbC-V"
      },
      "source": [
        "Because a tuples is delimited by a pair of parenthesis, it is sometimes tricky to work with.\n",
        "\n",
        "e.g. If a function expects a tuple as an argument, then the following are the expected ways to call this function.\n",
        "\n",
        "foo(('Narendra', 'Pershad')) #two arguments  \n",
        "foo(('Narendra',))           #one arguument  "
      ]
    },
    {
      "cell_type": "code",
      "metadata": {
        "colab": {
          "base_uri": "https://localhost:8080/"
        },
        "id": "LXE2sRyVcRGq",
        "outputId": "bb9645b6-9f5e-4d72-d44a-ddedad471581"
      },
      "source": [
        "def foo(names):\n",
        "  for name in names:\n",
        "    print(f'{name}', sep=' ')\n",
        "\n",
        "foo(('Narendra', 'Pershad'))\n",
        "foo(('Narendra'))      #argument is not sent as a tuple\n",
        "foo(('Narendra',))     #argument is now sent as a tuple"
      ],
      "execution_count": null,
      "outputs": [
        {
          "output_type": "stream",
          "name": "stdout",
          "text": [
            "Narendra\n",
            "Pershad\n",
            "N\n",
            "a\n",
            "r\n",
            "e\n",
            "n\n",
            "d\n",
            "r\n",
            "a\n",
            "Narendra\n"
          ]
        }
      ]
    },
    {
      "cell_type": "markdown",
      "metadata": {
        "id": "7xveC-AjvSTE"
      },
      "source": [
        "###3.2.1 <a name=\"list\"></a>List\n",
        "A list is a mutable heterogenous collection that is enumerable"
      ]
    },
    {
      "cell_type": "code",
      "metadata": {
        "id": "8Zb9PfINwrKD",
        "colab": {
          "base_uri": "https://localhost:8080/"
        },
        "outputId": "c3f6543b-c3c5-4814-8aff-7e97b25d9a7f"
      },
      "source": [
        "#manually specifing the items in a list\n",
        "a = [0, 1, 2, 3, 4, 'five', 'six', ['nested', 'list']]\n",
        "print(type(a))\n",
        "print(a)\n",
        "print(len(a))         #number of items in the sequence\n",
        "print(a[5])           #the sixth item\n",
        "\n",
        "                      #following operations are called slicing\n",
        "print(a[:3])          #all items before the third item\n",
        "print(a[5:])          #all items from 5 to the end\n",
        "print(a[1:3])         #from second to the third item\n",
        "print(a[-1])          #the last item\n",
        "print(a[-2])          #second from last\n",
        "\n",
        "b  = [1, 2, 3, 4]\n",
        "c = [5, 4]\n",
        "#creating a list by adding two lists\n",
        "d = c + b             #pool all the items in c and b into a new list\n",
        "print(d)\n",
        "#creating a list by multiplying a list by a scalar\n",
        "print(c * 3)          #triple the items in c into a new list\n",
        "\n",
        "#by using the split method\n",
        "d = \"Love means never having to say you're sorry.\".split()\n",
        "print(type(d))\n",
        "t = ('mary', 'had', 'a', 'little', 'lamb')\n",
        "d = list(t)           #creating a list from a tuple\n",
        "print(type(a))\n",
        "\n",
        "print('\\ntraversing by indexing')\n",
        "#traversing by indexing\n",
        "#similar to a for loop\n",
        "for i in range(len(d)):\n",
        "  print(d[i], end=' ')\n",
        "\n",
        "print('\\n\\ntraversing by enumerating')\n",
        "#traversing by enumerating\n",
        "#sinilar to a foreach loop\n",
        "for x in d:\n",
        "  print(x, end=' ')\n",
        "\n"
      ],
      "execution_count": null,
      "outputs": [
        {
          "output_type": "stream",
          "name": "stdout",
          "text": [
            "<class 'list'>\n",
            "[0, 1, 2, 3, 4, 'five', 'six', ['nested', 'list']]\n",
            "8\n",
            "five\n",
            "[0, 1, 2]\n",
            "['five', 'six', ['nested', 'list']]\n",
            "[1, 2]\n",
            "['nested', 'list']\n",
            "six\n",
            "[5, 4, 1, 2, 3, 4]\n",
            "[5, 4, 5, 4, 5, 4]\n",
            "<class 'list'>\n",
            "<class 'list'>\n",
            "\n",
            "traversing by indexing\n",
            "mary had a little lamb \n",
            "\n",
            "traversing by enumerating\n",
            "mary had a little lamb "
          ]
        }
      ]
    },
    {
      "cell_type": "code",
      "metadata": {
        "id": "-pGrTCyadlKt",
        "colab": {
          "base_uri": "https://localhost:8080/"
        },
        "outputId": "5fd9a627-f377-41cb-8247-213a6ecbce0a"
      },
      "source": [
        "#traversing by indexing\n",
        "#similar to a for loop\n",
        "for i in range(len(d)):\n",
        "  print(d[i], end=' ')"
      ],
      "execution_count": null,
      "outputs": [
        {
          "output_type": "stream",
          "text": [
            "mary had a little lamb "
          ],
          "name": "stdout"
        }
      ]
    },
    {
      "cell_type": "markdown",
      "metadata": {
        "id": "iZlrPVjg5aKD"
      },
      "source": [
        "###3.2.2 <a name=\"set\"></a>Set\n",
        "A mutable hetereogenous collection of unique python objects\n",
        "\n",
        "A set may not have a list or dictionary or a nested set as one of its member\n",
        "\n",
        "Sets does not support indexing"
      ]
    },
    {
      "cell_type": "code",
      "metadata": {
        "id": "Kt460CN65wT0",
        "colab": {
          "base_uri": "https://localhost:8080/"
        },
        "outputId": "7f35c498-fecb-4e9f-c021-6018fb1f5e96"
      },
      "source": [
        "a = {0, 1, 2, 3, 4, 'five', 'six', 0, 3}\n",
        "print(type(a))\n",
        "print(a)              #duplicate items 0 and 3 are removed\n",
        "print(len(a))         #number of items in the sequence\n",
        "#print(a[0])          #this does not work\n",
        "\n",
        "print(id(a))\n",
        "print('Items: ', end='')\n",
        "for x in a:\n",
        "  print(x, end=', ')\n",
        "\n",
        "a.add(30)\n",
        "print('\\n', len(a))\n",
        "print(id(a))"
      ],
      "execution_count": null,
      "outputs": [
        {
          "output_type": "stream",
          "text": [
            "<class 'set'>\n",
            "{0, 1, 2, 3, 4, 'five', 'six'}\n",
            "7\n",
            "139903215831952\n",
            "Items: 0, 1, 2, 3, 4, five, six, \n",
            " 8\n",
            "139903215831952\n"
          ],
          "name": "stdout"
        }
      ]
    },
    {
      "cell_type": "markdown",
      "metadata": {
        "id": "3sIL-86H5ukn"
      },
      "source": [
        "##4. <a name=\"mapping\"></a>Mapping\n",
        "###<a name=\"dictionary\"></a>Dictionary\n",
        "A collection of key-value pairs.  \n",
        "Each key must be unique and immutable such as strings, number or tuples. A list may not be a key.  \n",
        "Does not support indexing.  \n",
        "A dictionary is almost like a json object\n",
        "\n"
      ]
    },
    {
      "cell_type": "code",
      "metadata": {
        "id": "ffKLwj-U9cZa",
        "colab": {
          "base_uri": "https://localhost:8080/"
        },
        "outputId": "8094c7ef-964f-40ab-b7f2-b3c76a193dfa"
      },
      "source": [
        "a = {'red': 'Danger', 1: 'first', 'second': 2, ('a', 'set'): 'a tuple is my key'}\n",
        "\n",
        "print(type(a))\n",
        "print(a)\n",
        "print(len(a))            #number of items in the sequence\n",
        "print(a['red'])          #the value pair of red\n",
        "print(a[('a', 'set')])   #the value pair of ('a', 'set')\n",
        "\n",
        "print('\\n\\nKeys: ', end='')\n",
        "for k in a.keys():       #iterating the keys\n",
        "  print(k, end= ', ')\n",
        "\n",
        "print('\\n\\nValues: ', end='')\n",
        "for v in a.values():     #iterating the values\n",
        "  print(v, end= ', ')\n",
        "\n",
        "print('\\n\\nkey and values:')\n",
        "for k, v in a.items():   #iterating the pairs\n",
        "  print(f'{k}: {v}')\n",
        "\n"
      ],
      "execution_count": null,
      "outputs": [
        {
          "output_type": "stream",
          "text": [
            "<class 'dict'>\n",
            "{'red': 'Danger', 1: 'first', 'second': 2, ('a', 'set'): 'a tuple is my key'}\n",
            "4\n",
            "Danger\n",
            "a tuple is my key\n",
            "\n",
            "\n",
            "Keys: red, 1, second, ('a', 'set'), \n",
            "\n",
            "Values: Danger, first, 2, a tuple is my key, \n",
            "\n",
            "key and values:\n",
            "red: Danger\n",
            "1: first\n",
            "second: 2\n",
            "('a', 'set'): a tuple is my key\n"
          ],
          "name": "stdout"
        }
      ]
    },
    {
      "cell_type": "markdown",
      "metadata": {
        "id": "Pgu5FP36dGgt"
      },
      "source": [
        "####Other ways of creating a dictionary"
      ]
    },
    {
      "cell_type": "code",
      "metadata": {
        "id": "HhwV5YXldM0Q",
        "colab": {
          "base_uri": "https://localhost:8080/"
        },
        "outputId": "35c0a27e-5eff-42c3-9706-0c62a2a62734"
      },
      "source": [
        "a = dict(zip(['ilia', 'hao', 'yin'], ['Ilia Nika', 'Hao Lac', 'Yin Li']))\n",
        "print(a)\n",
        "\n",
        "b = dict([('arben', 'Arben Tapia'),('patrick','Patrick Gignac')])\n",
        "print(b)\n",
        "\n",
        "c = dict(nar='Narendra Pershad', joanne='Joanne Filotti')\n",
        "print(c)\n",
        "#adds a new pair to c\n",
        "c['yin'] = 'Yin Li'\n",
        "print(c)\n",
        "#change the value for nar\n",
        "c['nar'] = 'Narendra K. Pershad'\n",
        "print(c)"
      ],
      "execution_count": null,
      "outputs": [
        {
          "output_type": "stream",
          "text": [
            "{'ilia': 'Ilia Nika', 'hao': 'Hao Lac', 'yin': 'Yin Li'}\n",
            "{'arben': 'Arben Tapia', 'patrick': 'Patrick Gignac'}\n",
            "{'nar': 'Narendra Pershad', 'joanne': 'Joanne Filotti'}\n",
            "{'nar': 'Narendra Pershad', 'joanne': 'Joanne Filotti', 'yin': 'Yin Li'}\n",
            "{'nar': 'Narendra K. Pershad', 'joanne': 'Joanne Filotti', 'yin': 'Yin Li'}\n"
          ],
          "name": "stdout"
        }
      ]
    },
    {
      "cell_type": "markdown",
      "metadata": {
        "id": "TLPds7-ZAeN9"
      },
      "source": [
        "###Some non-mutating operation on sequences\n",
        "####Indexable sequences (list, strings)"
      ]
    },
    {
      "cell_type": "code",
      "metadata": {
        "id": "at9gUFhlVdHU"
      },
      "source": [
        "#list and string are indexable\n",
        "a = 'the quick brown fox jumps over the lazy dog'\n",
        "for i in range(len(a)):\n",
        "  print(f'{a[i]}', end=' ') #the second optional argument determines\n",
        "                            #the end char.\n",
        "                            #the default is the newline character\n",
        "\n",
        "\n",
        "print('\\n')                 #a new line for separation of the display\n",
        "b = a.split()\n",
        "for i in range(len(b)):\n",
        "  print(f'{i} {b[i]}')\n",
        "\n",
        "c = tuple(a)\n",
        "print('\\n')                 #a new line for separation of the display\n",
        "for i in range(10):         #prints the first 10 items\n",
        "  print(f'{i} {c[i]}')\n"
      ],
      "execution_count": null,
      "outputs": []
    },
    {
      "cell_type": "markdown",
      "metadata": {
        "id": "UiqxHFFpZZKN"
      },
      "source": [
        "####Non-indexable sequences (sets, dictionary)"
      ]
    },
    {
      "cell_type": "code",
      "metadata": {
        "id": "Ff9BaZ1YaY6A"
      },
      "source": [
        "a = 'the quick brown fox jumps over the lazy dog'\n",
        "b = set(a)                   #creates a set (removing the duplicates)\n",
        "#print(b)\n",
        "\n",
        "print('\\n')                 #a new line for separation of the display\n",
        "d = {'http': 80, 'telnet': 23, 'dns': 53, 'dhcp': 67, 'ssh': 22, 'smtp': 25}\n",
        "for key in d.keys():\n",
        "  print(f'{key} operates on port {d[key]}')"
      ],
      "execution_count": null,
      "outputs": []
    },
    {
      "cell_type": "markdown",
      "metadata": {
        "id": "0It8mTMCqVT2"
      },
      "source": [
        "These non-mutating operations work on both indexable and non-indexable sequenecs."
      ]
    },
    {
      "cell_type": "code",
      "metadata": {
        "id": "kA1dyh7Pq2g8"
      },
      "source": [
        "a = [5, 3, 2, 7, 13, 11]\n",
        "\n",
        "to_find = 7\n",
        "print(f'{to_find} is a position {a.index(to_find)}')\n",
        "\n",
        "for x in sorted(a):         #sorted returns a sorted iterator object\n",
        "  print(f'{x}', end=' ')    #displays each item separated by a space\n",
        "print('\\n')\n",
        "print(a)                    #a is unchanged\n",
        "\n",
        "for x in reversed(a):       #reversed returns a flipped iterator object\n",
        "  print(f'{x}', end=' ')\n",
        "print('\\n')\n",
        "print(a)                    #a is unchanged\n",
        "\n",
        "\n",
        "a = 'mary had a little lamb'.split()\n",
        "#this is actually a string function\n",
        "print(''.join(a))          #all of the following methods returns a new string\n",
        "print(', '.join(a))\n",
        "print('\\t'.join(a))\n",
        "print('\\n'.join(a))"
      ],
      "execution_count": null,
      "outputs": []
    },
    {
      "cell_type": "markdown",
      "metadata": {
        "id": "E7nhHr_-Vd4U"
      },
      "source": [
        "Some mutating operations on sequences.  \n",
        "All of these operations changes the sequence.  \n",
        "The methods may or may not return a value\n",
        "\n"
      ]
    },
    {
      "cell_type": "code",
      "metadata": {
        "id": "r00LuYSFBuyF"
      },
      "source": [
        "a = [4, 6, 'third', {2, 3}]\n",
        "print(a)\n",
        "\n",
        "print(a.count(4))            #returns the number of occurences of the argument\n",
        "print(a.count(2))            #returns 0 (there is no zero in the list)\n",
        "\n",
        "print(a.pop())               #remove the last item\n",
        "print(a.pop(1))              #removes the second item\n",
        "print(a)                     #show what is left of the collection\n",
        "\n",
        "a.append('last item')        #adds a new item to the end\n",
        "print(a)\n",
        "\n",
        "a.insert(1, 'second item')   #insert an item in the second spot\n",
        "print(a)\n",
        "\n",
        "a.remove('third')            #remove the third item\n",
        "print(a)\n",
        "\n",
        "poem = 'mary had a little lamb its fleece was as white as snow'.split()\n",
        "poem.reverse()               #reverses the sequence\n",
        "print(poem)\n",
        "\n",
        "poem.sort()                  #sorts the sequence\n",
        "print(poem)\n",
        "\n",
        "poem.clear()                 #removes all the items from the sequence\n",
        "print(poem)"
      ],
      "execution_count": null,
      "outputs": []
    },
    {
      "cell_type": "markdown",
      "metadata": {
        "id": "peqriMjXbTUu"
      },
      "source": [
        "##Enum<a name=\"enum\"></a>  \n",
        "Enums is not a built-in type, because you have to import it\n"
      ]
    },
    {
      "cell_type": "code",
      "metadata": {
        "id": "SA9b36OtbneJ",
        "colab": {
          "base_uri": "https://localhost:8080/"
        },
        "outputId": "124e16a0-cfc0-470f-b7d4-af54ced75e19"
      },
      "source": [
        "from enum import Enum\n",
        "\n",
        "class TrafficLight(Enum):\n",
        "  GREEN = 1\n",
        "  YELLOW = 2\n",
        "  RED = 4\n",
        "\n",
        "print(TrafficLight.GREEN)\n",
        "print(TrafficLight.__members__)\n",
        "\n",
        "# help(TrafficLight)\n"
      ],
      "execution_count": null,
      "outputs": [
        {
          "output_type": "stream",
          "name": "stdout",
          "text": [
            "TrafficLight.GREEN\n",
            "OrderedDict([('GREEN', <TrafficLight.GREEN: 1>), ('YELLOW', <TrafficLight.YELLOW: 2>), ('RED', <TrafficLight.RED: 4>)])\n"
          ]
        }
      ]
    }
  ]
}