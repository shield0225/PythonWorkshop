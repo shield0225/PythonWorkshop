{
  "nbformat": 4,
  "nbformat_minor": 0,
  "metadata": {
    "colab": {
      "provenance": [],
      "include_colab_link": true
    },
    "kernelspec": {
      "name": "python3",
      "display_name": "Python 3"
    }
  },
  "cells": [
    {
      "cell_type": "markdown",
      "metadata": {
        "id": "view-in-github",
        "colab_type": "text"
      },
      "source": [
        "<a href=\"https://colab.research.google.com/github/shield0225/PythonWorkshop/blob/main/Copy_of_Module01_wk01c_control_structures.ipynb\" target=\"_parent\"><img src=\"https://colab.research.google.com/assets/colab-badge.svg\" alt=\"Open In Colab\"/></a>"
      ]
    },
    {
      "cell_type": "markdown",
      "metadata": {
        "id": "6w3V1_on-1b8"
      },
      "source": [
        "#*Control Structures*\n",
        "By understanding control structures, someone is able to predict the effects of a set of code statements.  \n",
        "Each structure some advantage.\n",
        "1. [Sequence](#sequence)\n",
        "2. [Branching](#branching): program is able to fulfill more than one task.\n",
        "3. [Looping](#looping): less coding require\n",
        "   1. while\n",
        "   2. for\n",
        "      1. using the range object\n",
        "      2. using an enumarable\n",
        "      3. using the enumerate function\n",
        "4. [Functions](#function): allows code re-use"
      ]
    },
    {
      "cell_type": "markdown",
      "metadata": {
        "id": "MSgRfqJK_pCS"
      },
      "source": [
        "##<a name=sequence></a>Sequence\n",
        "This is the natural order of processing, you start with the first statement and then go to the next and continue until you get to the end. So if there are ten statements, then each is processed sequentially. There are no skips, no jumps and no repeats.  \n",
        "This control structure will always produce the same effect, because it is the same set of statements processed in the same order."
      ]
    },
    {
      "cell_type": "code",
      "metadata": {
        "id": "_B37-kb_-phS"
      },
      "source": [],
      "execution_count": null,
      "outputs": []
    },
    {
      "cell_type": "markdown",
      "metadata": {
        "id": "hTUhVvZo_1qG"
      },
      "source": [
        "##<a name=branching></a>Branching (Selection or Conditional)\n",
        "\n",
        "Branching allows you to split the execution flow into two part. One of the branch will be processed and the other will be ignored.  There are three basic forms:  \n",
        "a. Simple if with no else block.  \n",
        "b. Both the true and the else block are present.  \n",
        "c. Nested if statement, where there is an if statement in either the true block or and if in the else block.  \n",
        "**Unlike C#, there is no switch  \n",
        "Also there are no curly braces**  \n",
        "\n",
        "Syntax for if statement\n",
        "```\n",
        "if test expression:\n",
        "    Body of if\n",
        "elif test expression:\n",
        "    Body of elif\n",
        "else:\n",
        "    Body of else\n",
        "```"
      ]
    },
    {
      "cell_type": "markdown",
      "metadata": {
        "id": "gQhDCknhNwya"
      },
      "source": [
        "a. A simple if statement without the else block"
      ]
    },
    {
      "cell_type": "code",
      "metadata": {
        "id": "Xl_N5k4IMxQk",
        "colab": {
          "base_uri": "https://localhost:8080/"
        },
        "outputId": "c9bf87b7-490b-4d01-8279-5b3a83f98053"
      },
      "source": [
        "temp = 25           #change the value of temp to 18 and run again\n",
        "if temp > 20:       #code block is signaled by colons\n",
        "  print('warm')     #and are identified by indentation"
      ],
      "execution_count": null,
      "outputs": [
        {
          "output_type": "stream",
          "name": "stdout",
          "text": [
            "warm\n"
          ]
        }
      ]
    },
    {
      "cell_type": "markdown",
      "metadata": {
        "id": "TD0UfaouNZ5L"
      },
      "source": [
        "b. If statement with both the true block as well as the else block."
      ]
    },
    {
      "cell_type": "code",
      "metadata": {
        "id": "S2Ta9Lt8NaiQ",
        "colab": {
          "base_uri": "https://localhost:8080/"
        },
        "outputId": "1a91bc7b-caa2-42e8-f938-ce51c3544c11"
      },
      "source": [
        "temp = 18\n",
        "if temp > 20:\n",
        "  print('warm')\n",
        "else:\n",
        "  print('cool')"
      ],
      "execution_count": null,
      "outputs": [
        {
          "output_type": "stream",
          "name": "stdout",
          "text": [
            "cool\n"
          ]
        }
      ]
    },
    {
      "cell_type": "markdown",
      "metadata": {
        "id": "UIC7dcpyOmRm"
      },
      "source": [
        "c. An if statement in the else block. This is a more complicated example"
      ]
    },
    {
      "cell_type": "code",
      "metadata": {
        "id": "JlPfrEPNOs9e",
        "colab": {
          "base_uri": "https://localhost:8080/"
        },
        "outputId": "6804ffb4-32fb-47de-bd67-910da03db2a2"
      },
      "source": [
        "weight = 140     #try changing weight to 100 and 200\n",
        "if weight < 120:\n",
        "  print('under weight')\n",
        "elif weight < 180:\n",
        "  print('normal')\n",
        "else:\n",
        "  print('over weight')\n"
      ],
      "execution_count": null,
      "outputs": [
        {
          "output_type": "stream",
          "name": "stdout",
          "text": [
            "normal\n"
          ]
        }
      ]
    },
    {
      "cell_type": "markdown",
      "metadata": {
        "id": "-m7SIC8Hj7nm"
      },
      "source": [
        "d. Like C# there is a tertiary operator"
      ]
    },
    {
      "cell_type": "code",
      "metadata": {
        "id": "4iqDPpyakHvh",
        "colab": {
          "base_uri": "https://localhost:8080/"
        },
        "outputId": "4a3465c4-ed0e-440f-8fc3-54f8c47576fa"
      },
      "source": [
        "condition = False\n",
        "\n",
        "x = 1 if condition else 0\n",
        "\n",
        "print(x)"
      ],
      "execution_count": null,
      "outputs": [
        {
          "output_type": "stream",
          "name": "stdout",
          "text": [
            "0\n"
          ]
        }
      ]
    },
    {
      "cell_type": "markdown",
      "metadata": {
        "id": "tBxgf2AwAQep"
      },
      "source": [
        "##<a name=looping></a>Looping\n",
        "There are two kinds of loops:  \n",
        "1. while\n",
        "2. for\n",
        "   1. using the range object\n",
        "   2. using an enumerable\n",
        "   3. using the enumerate function"
      ]
    },
    {
      "cell_type": "markdown",
      "metadata": {
        "id": "L0QsKQNhbpdO"
      },
      "source": [
        "##while\n",
        "Python uses indentation to show semantic blocks.   \n",
        "**Unlike C#, python does not have do-while loops**  \n",
        "\n",
        "Syntax for while statement\n",
        "```\n",
        "while test expression:\n",
        "    Body of while\n",
        "```"
      ]
    },
    {
      "cell_type": "code",
      "metadata": {
        "id": "UDOJbqprbagh",
        "colab": {
          "base_uri": "https://localhost:8080/",
          "height": 35
        },
        "outputId": "837aaddb-43f1-42e3-b0a9-50cc2fd5ac30"
      },
      "source": [
        "x = 1\n",
        "sum = 0\n",
        "\n",
        "while x < 100:\n",
        "  sum += x\n",
        "  x += 1\n",
        "print(sum)"
      ],
      "execution_count": null,
      "outputs": [
        {
          "output_type": "stream",
          "text": [
            "4950\n"
          ],
          "name": "stdout"
        }
      ]
    },
    {
      "cell_type": "code",
      "metadata": {
        "id": "fgx-gzGhcJrD",
        "colab": {
          "base_uri": "https://localhost:8080/",
          "height": 35
        },
        "outputId": "e7a1cbb2-4a67-4db9-c80b-01250d1e806e"
      },
      "source": [
        "x = 0\n",
        "while True:\n",
        "  print(f'{x}', end=' ')\n",
        "  x += 1\n",
        "  if x > 5:\n",
        "    break"
      ],
      "execution_count": null,
      "outputs": [
        {
          "output_type": "stream",
          "text": [
            "0 1 2 3 4 5 "
          ],
          "name": "stdout"
        }
      ]
    },
    {
      "cell_type": "markdown",
      "metadata": {
        "id": "K-ddegOhpnRq"
      },
      "source": [
        "###Continue and break statement\n",
        "As in C# the **continue** statement skips the rest of the loop body and the **break** statement terminate the loop.   \n",
        "These statements also work the same way with the for loops."
      ]
    },
    {
      "cell_type": "code",
      "metadata": {
        "id": "xaA1hc2Sql4A",
        "colab": {
          "base_uri": "https://localhost:8080/",
          "height": 52
        },
        "outputId": "a5d9df36-872f-41d8-b950-1603d1526279"
      },
      "source": [
        "#continue\n",
        "sum = 0;\n",
        "end = 100\n",
        "start = 0\n",
        "while start < end:\n",
        "  start += 1\n",
        "  if start % 5 == 0:\n",
        "    continue\n",
        "  sum += start\n",
        "print(sum)\n",
        "\n",
        "#break\n",
        "sum = 0;\n",
        "end = 100\n",
        "start = 0\n",
        "while start < end:\n",
        "  sum += start\n",
        "  if sum > 1000:\n",
        "    break\n",
        "  start += 1\n",
        "\n",
        "print(f'the sum of {start} gave {sum}')\n"
      ],
      "execution_count": null,
      "outputs": [
        {
          "output_type": "stream",
          "text": [
            "4000\n",
            "the sum of 45 gave 1035\n"
          ],
          "name": "stdout"
        }
      ]
    },
    {
      "cell_type": "markdown",
      "metadata": {
        "id": "2W3W9B_6U1ep"
      },
      "source": [
        "###Using the range object\n",
        "range([start = 0], end, [step])\n",
        "\n",
        "Syntax for for statement\n",
        "```\n",
        "for iterator_variable in range_object:\n",
        "    Body of for\n",
        "```"
      ]
    },
    {
      "cell_type": "code",
      "metadata": {
        "id": "6LLC48gxTFjY",
        "colab": {
          "base_uri": "https://localhost:8080/"
        },
        "outputId": "f3aa6305-55c9-47d2-c7fd-e0fc69372784"
      },
      "source": [
        "#the range object\n",
        "print('\\n\\nrange(3):')\n",
        "for i in range(3):\n",
        "  print(i, end=' ')\n",
        "\n",
        "print('\\n\\nrange(3, 6):')\n",
        "for i in range(3, 6):\n",
        "  print(i, end=' ')\n",
        "\n",
        "print('\\n\\nrange(6, 12, 2):')\n",
        "for i in range(6, 12, 2):\n",
        "  print(i, end=' ')\n",
        "\n",
        "print('\\n\\nrange(4, -2, -1):')\n",
        "for i in range(4, -2, -1):\n",
        "  print(i, end=' ')\n",
        "\n",
        "print('\\n\\nrange(len(<<sequence>>)')\n",
        "a = 'mary had a little lamb'\n",
        "for i in range(0, len(a), 2):        #skip every other letter\n",
        "  print(a[i], end='')\n",
        "\n",
        "print('\\n\\nrange(len(<<sequence>>)')\n",
        "a = 'mary had a little lamb'\n",
        "for i in range(len(a)-1, -1, -1):    #reverses the sequence\n",
        "  print(a[i], end=' ')\n",
        "\n",
        "print('\\n\\ncreates a list')\n",
        "a = []\n",
        "for i in range(1, 6):                #starts at 1 and end at 5\n",
        "  a += [i]\n",
        "print(a)\n",
        "\n",
        "print('\\n\\n')\n",
        "for i in range(10):                  #starts at 1 and end at 9\n",
        "  if i % 2 == 0:\n",
        "    continue\n",
        "  print(f'{i}', end=' ')"
      ],
      "execution_count": null,
      "outputs": [
        {
          "output_type": "stream",
          "name": "stdout",
          "text": [
            "\n",
            "\n",
            "range(3):\n",
            "0 1 2 \n",
            "\n",
            "range(3, 6):\n",
            "3 4 5 \n",
            "\n",
            "range(6, 12, 2):\n",
            "6 8 10 \n",
            "\n",
            "range(4, -2, -1):\n",
            "4 3 2 1 0 -1 \n",
            "\n",
            "range(len(<<sequence>>)\n",
            "mr a  itelm\n",
            "\n",
            "range(len(<<sequence>>)\n",
            "b m a l   e l t t i l   a   d a h   y r a m \n",
            "\n",
            "creates a list\n",
            "[1, 2, 3, 4, 5]\n",
            "\n",
            "\n",
            "\n",
            "1 3 5 7 9 "
          ]
        }
      ]
    },
    {
      "cell_type": "markdown",
      "metadata": {
        "id": "LYqyf02gYOmq"
      },
      "source": [
        "###using an enumeration object  \n",
        "\n",
        "Syntax for enumeration statement\n",
        "```\n",
        "for enumerator_variable in enumerator_object:\n",
        "    Body of for\n",
        "```"
      ]
    },
    {
      "cell_type": "code",
      "metadata": {
        "id": "b24Jjf2lYkKv",
        "colab": {
          "base_uri": "https://localhost:8080/",
          "height": 265
        },
        "outputId": "72bb7916-e25d-49c2-e60a-1f1f4a83173e"
      },
      "source": [
        "print('\\n\\nenumerating a string')\n",
        "a = 'mary had a little lamb'\n",
        "for x in a:\n",
        "  print(x, end=' ')      #display the string sequence\n",
        "\n",
        "r = ''\n",
        "for x in a:\n",
        "  r = x + r              #notice the order of the parts\n",
        "\n",
        "print('\\n\\nusing enumeration to reverse a sequence')\n",
        "print(r)\n",
        "\n",
        "b = {'a', 'e', 'i', 'o', 'u'}\n",
        "print('\\n\\nenumerating a set')\n",
        "for x in b:\n",
        "  print(x, end=' ')\n",
        "\n",
        "print('\\n\\nenumerating a list with some condition')\n",
        "for x in a:\n",
        "  if x not in b:       #is x present in b\n",
        "    print(x, end=' ')"
      ],
      "execution_count": null,
      "outputs": [
        {
          "output_type": "stream",
          "text": [
            "\n",
            "\n",
            "enumerating a list\n",
            "m a r y   h a d   a   l i t t l e   l a m b \n",
            "\n",
            "using enumeration to reverse a string\n",
            "bmal elttil a dah yram\n",
            "\n",
            "\n",
            "enumerating a set\n",
            "a o e i u \n",
            "\n",
            "enumerating a list with some condition\n",
            "m r y   h d     l t t l   l m b "
          ],
          "name": "stdout"
        }
      ]
    },
    {
      "cell_type": "code",
      "metadata": {
        "id": "lWsWvEX4w6c1",
        "colab": {
          "base_uri": "https://localhost:8080/",
          "height": 459
        },
        "outputId": "a53957a4-7655-411d-b9ad-6643dfd6159f"
      },
      "source": [
        "# enumerating is the only way you can traverse a tuple or set or dictionary\n",
        "# because they do not support indexing\n",
        "c = tuple(a.split())\n",
        "print(f'\\n\\nenumerating a {type(c)}')\n",
        "for x in c:\n",
        "  print(x, end=', ')\n",
        "\n",
        "c = set(a.split())\n",
        "print(f'\\n\\nenumerating a {type(c)}')\n",
        "for x in c:\n",
        "  print(x, end=', ')\n",
        "\n",
        "c = {}\n",
        "for i in range(1, 6):\n",
        "  c[i] = i * i\n",
        "print(f'\\n\\n{c} is {type(c)}')\n",
        "\n",
        "print(f'\\n\\nenumerating a {type(c)}')\n",
        "for key in c:              #this only enumerates the keys\n",
        "  print(f'{key} -> {c[key]}')\n",
        "\n",
        "print(f'\\n\\nanother enumeration of a {type(c)}')\n",
        "for k, v in c.items():     #this enumerates the keys and values as a pair\n",
        "  print(f'{k} -> {v}')"
      ],
      "execution_count": null,
      "outputs": [
        {
          "output_type": "stream",
          "text": [
            "\n",
            "\n",
            "enumerating a <class 'tuple'>\n",
            "mary, had, a, little, lamb, \n",
            "\n",
            "enumerating a <class 'set'>\n",
            "lamb, had, a, mary, little, \n",
            "\n",
            "{1: 1, 2: 4, 3: 9, 4: 16, 5: 25} is <class 'dict'>\n",
            "\n",
            "\n",
            "enumerating a <class 'dict'>\n",
            "1 -> 1\n",
            "2 -> 4\n",
            "3 -> 9\n",
            "4 -> 16\n",
            "5 -> 25\n",
            "\n",
            "\n",
            "another enumeration of a <class 'dict'>\n",
            "1 -> 1\n",
            "2 -> 4\n",
            "3 -> 9\n",
            "4 -> 16\n",
            "5 -> 25\n"
          ],
          "name": "stdout"
        }
      ]
    },
    {
      "cell_type": "markdown",
      "metadata": {
        "id": "5l0O7c0pe83L"
      },
      "source": [
        "####Using the enumerate function\n",
        "The enumerate funtions ....\n",
        "\n"
      ]
    },
    {
      "cell_type": "code",
      "metadata": {
        "id": "CDhF9i1_frJx",
        "colab": {
          "base_uri": "https://localhost:8080/",
          "height": 191
        },
        "outputId": "d6f9fe8a-e72d-4142-9a86-a1fe955cc61e"
      },
      "source": [
        "profs='ilia yin arben narendra'.split()\n",
        "#process all the items\n",
        "for pos, name in enumerate(profs):\n",
        "  print(f'{pos} {name}')\n",
        "\n",
        "start = 10\n",
        "print(f'\\nStart numbering form {start}')\n",
        "for pos, name in enumerate(profs, start):\n",
        "  print(f'{pos} {name}')\n",
        "\n"
      ],
      "execution_count": null,
      "outputs": [
        {
          "output_type": "stream",
          "text": [
            "0 ilia\n",
            "1 yin\n",
            "2 arben\n",
            "3 narendra\n",
            "\n",
            "Start numbering form 10\n",
            "10 ilia\n",
            "11 yin\n",
            "12 arben\n",
            "13 narendra\n"
          ],
          "name": "stdout"
        }
      ]
    },
    {
      "cell_type": "code",
      "metadata": {
        "id": "s9h-xhSri0_b",
        "colab": {
          "base_uri": "https://localhost:8080/",
          "height": 86
        },
        "outputId": "0f5e7ebd-05ff-4d43-a8ca-fdb0f5acbb06"
      },
      "source": [
        "####Using the zip function\n",
        "profs='ilia yin arben narendra'.split()              #list\n",
        "fruits = {'apple', 'banana', 'cherry', 'dorian'}     #set\n",
        "courses = ('comp100', 'comp123','comp216','comp304') #tuple\n",
        "for p, f, c in zip(profs, fruits, courses):\n",
        "  print(f'{p} {f} {c}')"
      ],
      "execution_count": null,
      "outputs": [
        {
          "output_type": "stream",
          "text": [
            "ilia dorian comp100\n",
            "yin apple comp123\n",
            "arben banana comp216\n",
            "narendra cherry comp304\n"
          ],
          "name": "stdout"
        }
      ]
    },
    {
      "cell_type": "markdown",
      "metadata": {
        "id": "3F7kxvM0elLa"
      },
      "source": [
        "A nested loop"
      ]
    },
    {
      "cell_type": "code",
      "metadata": {
        "id": "7MX1oaxBYaGX",
        "colab": {
          "base_uri": "https://localhost:8080/",
          "height": 176
        },
        "outputId": "ffd342c9-d82c-406f-8933-532005bbc326"
      },
      "source": [
        "distros = 'ubuntu redhat centos'.split()\n",
        "arch = '32-bit 64-bit'.split()\n",
        "for d in distros:\n",
        "  for a in arch:\n",
        "    print(d, a)\n",
        "  print('___________')\n"
      ],
      "execution_count": null,
      "outputs": [
        {
          "output_type": "stream",
          "text": [
            "ubuntu 32-bit\n",
            "ubuntu 64-bit\n",
            "___________\n",
            "redhat 32-bit\n",
            "redhat 64-bit\n",
            "___________\n",
            "centos 32-bit\n",
            "centos 64-bit\n",
            "___________\n"
          ],
          "name": "stdout"
        }
      ]
    },
    {
      "cell_type": "markdown",
      "metadata": {
        "id": "e48YlC-cAWUi"
      },
      "source": [
        "##<a name=function></a>Function\n",
        "A functions is:   \n",
        "a. A unit that is intended to complete a single task.  \n",
        "b. It is only run when called.  \n",
        "c. [It may take input (arguments)](#single_argument).  \n",
        "d. It may return a value(s).  \n",
        "e. It may declare its own variables.  \n",
        "e. May contain a docstring.  \n",
        "f. Is an objects so you may use it like any other variable.  \n",
        "g. If a function is declare as a member of a class, it is called a method.  \n",
        "h. May have a decorator  \n",
        "\n"
      ]
    },
    {
      "cell_type": "markdown",
      "metadata": {
        "id": "8Buh0aOhQW80"
      },
      "source": [
        "###Using Functions\n",
        "A simple function that does not require an argument and it does not return a value.  \n",
        "Displaying something on screen does not mean it returns a value."
      ]
    },
    {
      "cell_type": "markdown",
      "metadata": {
        "id": "SrHrpxg96yKx"
      },
      "source": [
        "####Function declaration  \n",
        "\n",
        "Syntax for function statement\n",
        "```\n",
        "def function_name(argument(s)):\n",
        "    Body of function\n",
        "```"
      ]
    },
    {
      "cell_type": "code",
      "metadata": {
        "id": "5ubR0eExQuxh"
      },
      "source": [
        "def hello_1():\n",
        "  print('Hello world')"
      ],
      "execution_count": null,
      "outputs": []
    },
    {
      "cell_type": "markdown",
      "metadata": {
        "id": "z3zKqiZp7AiB"
      },
      "source": [
        "####To activate a function you must call it"
      ]
    },
    {
      "cell_type": "code",
      "metadata": {
        "id": "FJEGyGDdRYqK",
        "colab": {
          "base_uri": "https://localhost:8080/"
        },
        "outputId": "51764478-7c79-40ff-f0be-754c147642d0"
      },
      "source": [
        "#Running the code in the previous cell does not do anything\n",
        "#To execute, you must calling the function:\n",
        "hello_1()"
      ],
      "execution_count": null,
      "outputs": [
        {
          "output_type": "stream",
          "text": [
            "Hello world\n"
          ],
          "name": "stdout"
        }
      ]
    },
    {
      "cell_type": "markdown",
      "metadata": {
        "id": "SVEJtNR97brw"
      },
      "source": [
        "####<a name=single_argument></a>A function that takes a single argument"
      ]
    },
    {
      "cell_type": "code",
      "metadata": {
        "id": "32fRAlk6R0u4",
        "colab": {
          "base_uri": "https://localhost:8080/"
        },
        "outputId": "dfc0cd66-9a38-43f1-e9b2-ac1833444533"
      },
      "source": [
        "def hello_2(name):\n",
        "  print(f'Hello world from {name}')\n",
        "\n",
        "\n",
        "hello_2('ilia')\n",
        "\n",
        "#hello_2()                  #this is a error"
      ],
      "execution_count": null,
      "outputs": [
        {
          "output_type": "stream",
          "name": "stdout",
          "text": [
            "Hello world from ilia\n"
          ]
        }
      ]
    },
    {
      "cell_type": "markdown",
      "metadata": {
        "id": "ECPEPzwZ7nSj"
      },
      "source": [
        "####Defining a function that takes an optional argument"
      ]
    },
    {
      "cell_type": "code",
      "metadata": {
        "id": "EDNK0aVhSguo",
        "colab": {
          "base_uri": "https://localhost:8080/"
        },
        "outputId": "cb00018a-6d35-4615-b1a1-5c869382b0d2"
      },
      "source": [
        "def hello_3(name='narendra'):\n",
        "    print(f'Hello world from {name}')\n",
        "\n",
        "hello_3()\n",
        "hello_3('ilia')"
      ],
      "execution_count": null,
      "outputs": [
        {
          "output_type": "stream",
          "name": "stdout",
          "text": [
            "Hello world from narendra\n",
            "Hello world from ilia\n"
          ]
        }
      ]
    },
    {
      "cell_type": "markdown",
      "metadata": {
        "id": "QIwq3cSW8QOR"
      },
      "source": [
        "####The order of the argument is important"
      ]
    },
    {
      "cell_type": "code",
      "metadata": {
        "id": "hqYwXA9LTBWV",
        "colab": {
          "base_uri": "https://localhost:8080/",
          "height": 70
        },
        "outputId": "3ff20c32-ba6e-4f4c-df58-7a2eeddf350d"
      },
      "source": [
        "def hello_4(name, country):\n",
        "  print(f'Hello {name} from {country}')\n",
        "\n",
        "hello_4('Narendra', 'India')\n",
        "hello_4('India', 'Narendra')             #works but the outut is meaningless\n",
        "hello_4(country='Canada', name='Hao')"
      ],
      "execution_count": null,
      "outputs": [
        {
          "output_type": "stream",
          "text": [
            "Hello Narendra from India\n",
            "Hello India from Narendra\n",
            "Hello Hao from Canada\n"
          ],
          "name": "stdout"
        }
      ]
    },
    {
      "cell_type": "markdown",
      "metadata": {
        "id": "QUYDRN0b8Glz"
      },
      "source": [
        "####A function that returns a single value\n",
        "As in C# the return statement is used to send back a value"
      ]
    },
    {
      "cell_type": "code",
      "metadata": {
        "id": "kSEZlpqbUpYg",
        "colab": {
          "base_uri": "https://localhost:8080/",
          "height": 35
        },
        "outputId": "6c6cf587-3689-47b7-bc9c-ab58f4d013bb"
      },
      "source": [
        "def diameter(radius):\n",
        "  return radius * 2\n",
        "\n",
        "r = 10\n",
        "print(f'If the radius is {r} then the diameter will be {diameter(r)}')"
      ],
      "execution_count": null,
      "outputs": [
        {
          "output_type": "stream",
          "text": [
            "If the radius is 10 then the diameter will be 20\n"
          ],
          "name": "stdout"
        }
      ]
    },
    {
      "cell_type": "markdown",
      "metadata": {
        "id": "Le0u7G428d-Y"
      },
      "source": [
        "####A function that returns multiple values"
      ]
    },
    {
      "cell_type": "code",
      "metadata": {
        "id": "Vl_1z0UAVbEr",
        "colab": {
          "base_uri": "https://localhost:8080/",
          "height": 52
        },
        "outputId": "b27b24fb-3a90-4ad5-a103-886cddd29052"
      },
      "source": [
        "def sphere(radius):\n",
        "  return 3.14 * radius * radius, 4 * 3.14 * radius * radius * radius / 3\n",
        "\n",
        "rad = 3\n",
        "a, v = sphere(rad)\n",
        "print(f'A sphere of radius {rad} will have area {a} and valume {v}')\n",
        "\n",
        "#alternately capture the values as a tuple\n",
        "rad = 1\n",
        "res = sphere(rad)\n",
        "print(f'A sphere of radius {rad} will have area {res[0]} and valume {res[1]}')"
      ],
      "execution_count": null,
      "outputs": [
        {
          "output_type": "stream",
          "text": [
            "A sphere of radius 3 will have an area 28.259999999999998 and valume 113.04\n",
            "A sphere of radius 1 will have an area 3.14 and valume 4.1866666666666665\n"
          ],
          "name": "stdout"
        }
      ]
    },
    {
      "cell_type": "markdown",
      "metadata": {
        "id": "wiEwOVIy8pyp"
      },
      "source": [
        "####Function Recursion"
      ]
    },
    {
      "cell_type": "code",
      "metadata": {
        "id": "-gPvQ9K8W5Qp",
        "colab": {
          "base_uri": "https://localhost:8080/",
          "height": 35
        },
        "outputId": "1422955c-639f-4938-c9ab-3a6b5dc1c16c"
      },
      "source": [
        "#A function that calls itself\n",
        "def factorial(n):\n",
        "  if n == 0 or n == 1:\n",
        "    return 1\n",
        "  else:\n",
        "    return n * factorial(n-1)    #calls itself with a smaller argument\n",
        "                                 #eventually this will drop to 1 and then\n",
        "                                 #the recursion stops\n",
        "\n",
        "x = 4\n",
        "print(f'The factorial of {x} is {factorial(x)}')"
      ],
      "execution_count": null,
      "outputs": [
        {
          "output_type": "stream",
          "text": [
            "The factorial of 4 is 24\n"
          ],
          "name": "stdout"
        }
      ]
    },
    {
      "cell_type": "markdown",
      "metadata": {
        "id": "tOpIQtoW82c4"
      },
      "source": [
        "####Documenting a function"
      ]
    },
    {
      "cell_type": "code",
      "metadata": {
        "id": "NQWSELXsYA3K",
        "colab": {
          "base_uri": "https://localhost:8080/"
        },
        "outputId": "c8bea428-08c4-43ba-9ff5-534f49b74a06"
      },
      "source": [
        "#Having a docstring is useful\n",
        "def hello_5(amount):\n",
        "  '''\n",
        "  The first line should briefly describe the function.\n",
        "  Subsequent lines should be more detailed, explaning\n",
        "  every aspect of the function\n",
        "  e.g.\n",
        "  Calculates and return the sales commission given the sales ammount.\n",
        "  If the sales amount is below 5000, commission is zero\n",
        "  Sales between 5000 and 10000 rate is 0.1%\n",
        "  Sales above 1000 rate is 0.15% of the entire amount\n",
        "  '''\n",
        "  if amount < 5000:\n",
        "    return 0\n",
        "  elif amount < 10000:\n",
        "    return 0.1 * amount / 100\n",
        "  else:\n",
        "    return 0.15 * amount / 100\n",
        "\n",
        "help(hello_5)                  #prints information on the function\n",
        "\n",
        "\n",
        "sale = 2300\n",
        "print(f'The commission on {sale} is {hello_5(sale)}')\n",
        "sale = 8000\n",
        "print(f'The commission on {sale} is {hello_5(sale)}')\n",
        "sale = 12000\n",
        "print(f'The commission on {sale} is {hello_5(sale)}')\n"
      ],
      "execution_count": null,
      "outputs": [
        {
          "output_type": "stream",
          "name": "stdout",
          "text": [
            "Help on function hello_5 in module __main__:\n",
            "\n",
            "hello_5(amount)\n",
            "    The first line should briefly describe the function.\n",
            "    Subsequent lines should be more detailed, explaning\n",
            "    every aspect of the function\n",
            "    e.g.\n",
            "    Calculates and return the sales commission given the sales ammount.\n",
            "    If the sales amount is below 5000, commission is zero\n",
            "    Sales between 5000 and 10000 rate is 0.1%\n",
            "    Sales above 1000 rate is 0.15% of the entire amount\n",
            "\n",
            "The commission on 2300 is 0\n",
            "The commission on 8000 is 8.0\n",
            "The commission on 12000 is 18.0\n"
          ]
        }
      ]
    },
    {
      "cell_type": "markdown",
      "metadata": {
        "id": "hwsYMJKdIHm_"
      },
      "source": [
        "####Anonymous Functions\n",
        "Anonymous functions are called **lambdas** in Python.  \n",
        "There are usually used when a fully-fledged function would be on overkill.\n",
        "\n",
        "`\n",
        "func_name = lambda [parameter_list]: expression\n",
        "`  \n",
        "\n",
        "C# has lambda expressions that does the same.  "
      ]
    },
    {
      "cell_type": "code",
      "metadata": {
        "id": "B2xfwmRgJHxc",
        "colab": {
          "base_uri": "https://localhost:8080/",
          "height": 34
        },
        "outputId": "fb775684-4249-4d33-8bbd-9b21a0cca7bf"
      },
      "source": [
        "def get_multiples_of_five(n):\n",
        "  return list(filter(lambda k: not k % 5, range(n)))\n",
        "\n",
        "get_multiples_of_five(34)"
      ],
      "execution_count": null,
      "outputs": [
        {
          "output_type": "execute_result",
          "data": {
            "text/plain": [
              "[0, 5, 10, 15, 20, 25, 30]"
            ]
          },
          "metadata": {
            "tags": []
          },
          "execution_count": 1
        }
      ]
    },
    {
      "cell_type": "markdown",
      "metadata": {
        "id": "BBZzWe-gLGZN"
      },
      "source": [
        "####Function Attributes\n",
        "Every function is a fully-fledged object and as such they have many attributes. It is easy to reflect a python object"
      ]
    },
    {
      "cell_type": "code",
      "metadata": {
        "id": "8-YA9XB0LuGO",
        "colab": {
          "base_uri": "https://localhost:8080/",
          "height": 228
        },
        "outputId": "710524b8-9cf4-4d16-9010-59db34b030f1"
      },
      "source": [
        "def addition(a, b = 2):\n",
        "  '''Returns a increased by b'''\n",
        "  return a + b\n",
        "\n",
        "\n",
        "attributes = [\n",
        "  '__doc__', '__name__', '__qualname__', '__module__',\n",
        "  '__defaults__', '__code__', '__dict__', '__globals__',\n",
        "  '__closure__', '__annotations__', '__kwdefaults__']\n",
        "\n",
        "for attribute in attributes:\n",
        "  print(f'{attribute} -> {getattr(addition, attribute)}')\n",
        "\n",
        "#n.b.\n",
        "#dir(addition) #givess you much more"
      ],
      "execution_count": null,
      "outputs": [
        {
          "output_type": "stream",
          "text": [
            "__doc__ -> Returns a increased by b\n",
            "__name__ -> addition\n",
            "__qualname__ -> addition\n",
            "__module__ -> __main__\n",
            "__defaults__ -> (2,)\n",
            "__code__ -> <code object addition at 0x7faf0ab91810, file \"<ipython-input-2-4bfe736c7440>\", line 1>\n",
            "__dict__ -> {}\n",
            "__globals__ -> {'__name__': '__main__', '__doc__': 'Automatically created module for IPython interactive environment', '__package__': None, '__loader__': None, '__spec__': None, '__builtin__': <module 'builtins' (built-in)>, '__builtins__': <module 'builtins' (built-in)>, '_ih': ['', 'def get_multiples_of_five(n):\\n  return list(filter(lambda k: not k % 5, range(n)))\\n\\nget_multiples_of_five(34)', \"def addition(a, b = 2):\\n  '''Returns a increased by b'''\\n  return a + b\\n\\n\\nattributes = [\\n  '__doc__', '__name__', '__qualname__', '__module__', \\n  '__defaults__', '__code__', '__dict__', '__globals__',  \\n  '__closure__', '__annotations__', '__kwdefaults__']\\n\\nfor attribute in attributes:\\n  print(f'{attribute} -> {getattr(addition, attribute)}')\"], '_oh': {1: [0, 5, 10, 15, 20, 25, 30]}, '_dh': ['/content'], '_sh': <module 'IPython.core.shadowns' from '/usr/local/lib/python3.6/dist-packages/IPython/core/shadowns.py'>, 'In': ['', 'def get_multiples_of_five(n):\\n  return list(filter(lambda k: not k % 5, range(n)))\\n\\nget_multiples_of_five(34)', \"def addition(a, b = 2):\\n  '''Returns a increased by b'''\\n  return a + b\\n\\n\\nattributes = [\\n  '__doc__', '__name__', '__qualname__', '__module__', \\n  '__defaults__', '__code__', '__dict__', '__globals__',  \\n  '__closure__', '__annotations__', '__kwdefaults__']\\n\\nfor attribute in attributes:\\n  print(f'{attribute} -> {getattr(addition, attribute)}')\"], 'Out': {1: [0, 5, 10, 15, 20, 25, 30]}, 'get_ipython': <bound method InteractiveShell.get_ipython of <google.colab._shell.Shell object at 0x7faf18195e10>>, 'exit': <IPython.core.autocall.ZMQExitAutocall object at 0x7faf17f4fe10>, 'quit': <IPython.core.autocall.ZMQExitAutocall object at 0x7faf17f4fe10>, '_': [0, 5, 10, 15, 20, 25, 30], '__': '', '___': '', '_i': 'def get_multiples_of_five(n):\\n  return list(filter(lambda k: not k % 5, range(n)))\\n\\nget_multiples_of_five(34)', '_ii': '', '_iii': '', '_i1': 'def get_multiples_of_five(n):\\n  return list(filter(lambda k: not k % 5, range(n)))\\n\\nget_multiples_of_five(34)', 'get_multiples_of_five': <function get_multiples_of_five at 0x7faf0b3ff9d8>, '_1': [0, 5, 10, 15, 20, 25, 30], '_i2': \"def addition(a, b = 2):\\n  '''Returns a increased by b'''\\n  return a + b\\n\\n\\nattributes = [\\n  '__doc__', '__name__', '__qualname__', '__module__', \\n  '__defaults__', '__code__', '__dict__', '__globals__',  \\n  '__closure__', '__annotations__', '__kwdefaults__']\\n\\nfor attribute in attributes:\\n  print(f'{attribute} -> {getattr(addition, attribute)}')\", 'addition': <function addition at 0x7faf0ab5a048>, 'attributes': ['__doc__', '__name__', '__qualname__', '__module__', '__defaults__', '__code__', '__dict__', '__globals__', '__closure__', '__annotations__', '__kwdefaults__'], 'attribute': '__globals__'}\n",
            "__closure__ -> None\n",
            "__annotations__ -> {}\n",
            "__kwdefaults__ -> None\n"
          ],
          "name": "stdout"
        }
      ]
    }
  ]
}